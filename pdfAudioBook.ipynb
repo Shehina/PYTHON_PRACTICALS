{
 "cells": [
  {
   "cell_type": "code",
   "execution_count": 1,
   "id": "d5d0bd82",
   "metadata": {},
   "outputs": [
    {
     "name": "stderr",
     "output_type": "stream",
     "text": [
      "PdfReadWarning: Xref table not zero-indexed. ID numbers for objects will be corrected. [pdf.py:1736]\n"
     ]
    }
   ],
   "source": [
    "# importing the modules\n",
    "import PyPDF2\n",
    "import pyttsx3\n",
    "  \n",
    "# path of the PDF file\n",
    "path = open('python.pdf', 'rb')\n",
    "  \n",
    "# creating a PdfFileReader object\n",
    "pdfReader = PyPDF2.PdfFileReader(path)\n",
    "  \n",
    "# the page with which you want to start\n",
    "# this will read the page of 0th page.\n",
    "from_page = pdfReader.getPage(0)\n",
    "  \n",
    "# extracting the text from the PDF\n",
    "text = from_page.extractText()\n",
    "  \n",
    "# reading the text\n",
    "speak = pyttsx3.init()\n",
    "speak.say(text)\n",
    "speak.runAndWait()"
   ]
  },
  {
   "cell_type": "code",
   "execution_count": null,
   "id": "9a36a870",
   "metadata": {},
   "outputs": [],
   "source": []
  }
 ],
 "metadata": {
  "kernelspec": {
   "display_name": "Python 3",
   "language": "python",
   "name": "python3"
  },
  "language_info": {
   "codemirror_mode": {
    "name": "ipython",
    "version": 3
   },
   "file_extension": ".py",
   "mimetype": "text/x-python",
   "name": "python",
   "nbconvert_exporter": "python",
   "pygments_lexer": "ipython3",
   "version": "3.8.8"
  }
 },
 "nbformat": 4,
 "nbformat_minor": 5
}
