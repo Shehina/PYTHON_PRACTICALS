{
 "cells": [
  {
   "cell_type": "code",
   "execution_count": 1,
   "id": "56d3e888",
   "metadata": {},
   "outputs": [
    {
     "name": "stderr",
     "output_type": "stream",
     "text": [
      "PdfReadWarning: Xref table not zero-indexed. ID numbers for objects will be corrected. [pdf.py:1736]\n"
     ]
    }
   ],
   "source": [
    "# pip install pyttsx3\n",
    "# pip install PyPDF2\n",
    "import PyPDF2\n",
    "import pyttsx3\n",
    "  \n",
    "pdf_book = open('python.pdf', 'rb')\n",
    "  \n",
    "# creating a PdfFileReader object\n",
    "reading_pdf = PyPDF2.PdfFileReader(pdf_book)\n",
    "pdf_pages = reading_pdf.numPages\n",
    "\n",
    "pdf_speaker = pyttsx3.init()\n",
    "\n",
    "# the page with which you want to start\n",
    "# this will read the page of 13th page.\n",
    "choose_page = reading_pdf.getPage(13)\n",
    "  \n",
    "# extracting the text from the PDF\n",
    "pdf_text = choose_page.extractText()\n",
    "\n",
    "pdf_speaker.say(pdf_text)\n",
    "pdf_speaker.runAndWait()\n",
    "  \n"
   ]
  },
  {
   "cell_type": "code",
   "execution_count": null,
   "id": "7c20e729",
   "metadata": {},
   "outputs": [],
   "source": []
  }
 ],
 "metadata": {
  "kernelspec": {
   "display_name": "Python 3",
   "language": "python",
   "name": "python3"
  },
  "language_info": {
   "codemirror_mode": {
    "name": "ipython",
    "version": 3
   },
   "file_extension": ".py",
   "mimetype": "text/x-python",
   "name": "python",
   "nbconvert_exporter": "python",
   "pygments_lexer": "ipython3",
   "version": "3.8.8"
  }
 },
 "nbformat": 4,
 "nbformat_minor": 5
}
